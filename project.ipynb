{
 "cells": [
  {
   "cell_type": "markdown",
   "id": "69dac508-32b6-4958-aca5-946da7c0a1bc",
   "metadata": {},
   "source": [
    "# Train the model."
   ]
  },
  {
   "cell_type": "code",
   "execution_count": null,
   "id": "ec69e2c6-1d6d-414f-b84d-54cbd93cd8d4",
   "metadata": {},
   "outputs": [],
   "source": [
    "%cd maix_train_mx"
   ]
  },
  {
   "cell_type": "markdown",
   "id": "5c264634-3403-4071-92f9-fb3dab66627d",
   "metadata": {},
   "source": [
    "! python train.py init"
   ]
  },
  {
   "cell_type": "code",
   "execution_count": null,
   "id": "3a0adbc6-1678-49af-b678-66ee12b373fe",
   "metadata": {
    "scrolled": true,
    "tags": []
   },
   "outputs": [],
   "source": [
    "! python train.py -t detector -di ../signal/images -dx ../signal/xml -ep 200 -ap 0.75 -bz 8 train"
   ]
  },
  {
   "cell_type": "markdown",
   "id": "a358b8b4-2f63-4d21-9ce1-c93407a61ac5",
   "metadata": {},
   "source": [
    "# Package the trained model into a format compatible with the K210 and place the file in the root directory for download."
   ]
  },
  {
   "cell_type": "code",
   "execution_count": null,
   "id": "619d33e4-4cd1-462d-866f-bc47b5c9e7f5",
   "metadata": {},
   "outputs": [],
   "source": [
    "import os\n",
    "import zipfile\n",
    "from pathlib import Path\n",
    "\n",
    "def get_sorted_directories(base_dir):\n",
    "    # Get all directories in the base directory and sort them by modification time\n",
    "    dirs = [d for d in os.listdir(base_dir) if (base_dir / d).is_dir()]\n",
    "    dirs = sorted(dirs, key=lambda d: (base_dir / d).stat().st_mtime, reverse=True)\n",
    "    return dirs\n",
    "\n",
    "def main():\n",
    "    base_dir = Path(\"/app/maix_train_mx/out\")\n",
    "    \n",
    "    # Get the sorted list of directories\n",
    "    sorted_dirs = get_sorted_directories(base_dir)\n",
    "    \n",
    "    # Filter out directories that do not contain detector_result.zip\n",
    "    valid_dirs = [d for d in sorted_dirs if (base_dir / d / \"detector_result.zip\").exists()]\n",
    "    \n",
    "    if not valid_dirs:\n",
    "        print(\"No directories contain detector_result.zip\")\n",
    "        return\n",
    "    \n",
    "    # Get the most recent directory\n",
    "    latest_dir = valid_dirs[0]\n",
    "    latest_dir_path = base_dir / latest_dir\n",
    "    \n",
    "    # Unzip detector_result.zip\n",
    "    zip_path = latest_dir_path / \"detector_result.zip\"\n",
    "    print(f\"Use '{zip_path}'.\")\n",
    "    with zipfile.ZipFile(zip_path, 'r') as zip_ref:\n",
    "        zip_ref.extractall(latest_dir_path)\n",
    "    \n",
    "    # Create a new package file flash-list.kfpkg\n",
    "    mx_kmodel_path = latest_dir_path / \"mx.kmodel\"\n",
    "    flash_list_path = Path(\"/app/maix_train_mx/flash-list.json\")  # Path to the uploaded flash-list.json file\n",
    "    \n",
    "    if not (mx_kmodel_path.exists() and flash_list_path.exists()):\n",
    "        print(\"mx.kmodel or flash-list.json file does not exist\")\n",
    "        return\n",
    "    \n",
    "    # Write mx.kmodel and flash-list.json to flash-list.kfpkg\n",
    "    output_kfpkg_path = Path(\"/app\") / \"flash-list.kfpkg\"\n",
    "    with zipfile.ZipFile(output_kfpkg_path, 'w') as kfpkg:\n",
    "        kfpkg.write(mx_kmodel_path, \"mx.kmodel\")\n",
    "        kfpkg.write(flash_list_path, \"flash-list.json\")\n",
    "    \n",
    "    print(f\"flash-list.kfpkg has been generated at {output_kfpkg_path}\")\n",
    "\n",
    "if __name__ == \"__main__\":\n",
    "    main()\n"
   ]
  }
 ],
 "metadata": {
  "kernelspec": {
   "display_name": "Python 3",
   "language": "python",
   "name": "python3"
  },
  "language_info": {
   "codemirror_mode": {
    "name": "ipython",
    "version": 3
   },
   "file_extension": ".py",
   "mimetype": "text/x-python",
   "name": "python",
   "nbconvert_exporter": "python",
   "pygments_lexer": "ipython3",
   "version": "3.6.9"
  }
 },
 "nbformat": 4,
 "nbformat_minor": 5
}
